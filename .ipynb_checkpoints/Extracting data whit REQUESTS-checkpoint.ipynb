{
 "cells": [
  {
   "cell_type": "markdown",
   "metadata": {},
   "source": [
    "#### Extracting Data Using API"
   ]
  },
  {
   "cell_type": "markdown",
   "metadata": {},
   "source": [
    "#### Import Package"
   ]
  },
  {
   "cell_type": "code",
   "execution_count": 1,
   "metadata": {},
   "outputs": [],
   "source": [
    "# Import requests\n",
    "import requests"
   ]
  },
  {
   "cell_type": "code",
   "execution_count": 13,
   "metadata": {},
   "outputs": [],
   "source": [
    "#url\n",
    "url='https://api.data.gov/ed/collegescorecard/v1/schools?school.name=boston%20college&api_key=oDVq0cyfmfJCVjXwYfGoWsp9c0Iv2tfeaKL1Eo2O'"
   ]
  },
  {
   "cell_type": "code",
   "execution_count": 17,
   "metadata": {},
   "outputs": [],
   "source": [
    "#using get command, returns response object\n",
    "result = requests.get(url)"
   ]
  },
  {
   "cell_type": "code",
   "execution_count": 19,
   "metadata": {},
   "outputs": [
    {
     "data": {
      "text/plain": [
       "200"
      ]
     },
     "execution_count": 19,
     "metadata": {},
     "output_type": "execute_result"
    }
   ],
   "source": [
    "# Exploring response object: status code\n",
    "result.status_code"
   ]
  },
  {
   "cell_type": "code",
   "execution_count": 21,
   "metadata": {},
   "outputs": [
    {
     "data": {
      "text/plain": [
       "{'Content-Length': '1535778', 'X-XSS-Protection': '1; mode=block', 'X-Cache': 'HIT', 'X-Content-Type-Options': 'nosniff', 'Content-Encoding': 'gzip', 'Age': '16', 'Strict-Transport-Security': 'max-age=31536000, max-age=31536000; preload', 'Vary': 'Accept-Encoding, Accept-Encoding', 'X-RateLimit-Remaining': '997', 'X-Vcap-Request-Id': '2893fc2c-ed65-4cd5-77d6-3ccbdae580c3', 'Server': 'openresty', 'Connection': 'keep-alive', 'X-RateLimit-Limit': '1000', 'Cache-Control': 'public, max-age=300', 'Via': 'http/1.1 api-umbrella (ApacheTrafficServer [cHs f ])', 'Date': 'Tue, 16 Jun 2020 18:50:52 GMT', 'Access-Control-Allow-Origin': '*', 'Access-Control-Allow-Methods': 'GET', 'Content-Type': 'application/json', 'X-Frame-Options': 'DENY'}"
      ]
     },
     "execution_count": 21,
     "metadata": {},
     "output_type": "execute_result"
    }
   ],
   "source": [
    "# Exploring response object: headers\n",
    "result.headers"
   ]
  },
  {
   "cell_type": "code",
   "execution_count": 2,
   "metadata": {},
   "outputs": [],
   "source": [
    "#Exploring response object: text\n",
    "#For run, uncoment result.text \n",
    "#result.text"
   ]
  },
  {
   "cell_type": "code",
   "execution_count": 3,
   "metadata": {},
   "outputs": [],
   "source": [
    "#in JSON object\n",
    "#For run, uncoment result.json\n",
    "#result.json()"
   ]
  },
  {
   "cell_type": "code",
   "execution_count": null,
   "metadata": {},
   "outputs": [],
   "source": []
  }
 ],
 "metadata": {
  "kernelspec": {
   "display_name": "Python 2",
   "language": "python",
   "name": "python2"
  },
  "language_info": {
   "codemirror_mode": {
    "name": "ipython",
    "version": 2
   },
   "file_extension": ".py",
   "mimetype": "text/x-python",
   "name": "python",
   "nbconvert_exporter": "python",
   "pygments_lexer": "ipython2",
   "version": "2.7.16"
  }
 },
 "nbformat": 4,
 "nbformat_minor": 2
}
