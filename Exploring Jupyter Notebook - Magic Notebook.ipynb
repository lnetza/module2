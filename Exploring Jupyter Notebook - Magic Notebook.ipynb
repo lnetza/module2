{
 "cells": [
  {
   "cell_type": "code",
   "execution_count": 4,
   "metadata": {},
   "outputs": [],
   "source": [
    "#magic function:matploit\n",
    "%matplotlib inline"
   ]
  },
  {
   "cell_type": "code",
   "execution_count": 7,
   "metadata": {},
   "outputs": [
    {
     "data": {
      "text/plain": [
       "[<matplotlib.lines.Line2D at 0x25594f68bc8>]"
      ]
     },
     "execution_count": 7,
     "metadata": {},
     "output_type": "execute_result"
    },
    {
     "data": {
      "image/png": "[encoded data removed]",
      "text/plain": [
       "<Figure size 432x288 with 1 Axes>"
      ]
     },
     "metadata": {
      "needs_background": "light"
     },
     "output_type": "display_data"
    }
   ],
   "source": [
    "import matplotlib.pyplot as plt\n",
    "plt.plot(range(100))"
   ]
  },
  {
   "cell_type": "markdown",
   "metadata": {},
   "source": [
    "#magic function:writefile"
   ]
  },
  {
   "cell_type": "code",
   "execution_count": 10,
   "metadata": {},
   "outputs": [
    {
     "name": "stdout",
     "output_type": "stream",
     "text": [
      "Overwriting test.txt\n"
     ]
    }
   ],
   "source": [
    "%%writefile test.txt\n",
    "this is written from a jupter\n",
    "notebook"
   ]
  },
  {
   "cell_type": "code",
   "execution_count": 12,
   "metadata": {},
   "outputs": [
    {
     "name": "stdout",
     "output_type": "stream",
     "text": [
      " El volumen de la unidad C no tiene etiqueta.\n",
      " El n£mero de serie del volumen es: B898-F9E1\n",
      "\n",
      " Directorio de C:\\Users\\ADATA\\module2\n",
      "\n",
      "13/06/2020  10:39 a. m.    <DIR>          .\n",
      "13/06/2020  10:39 a. m.    <DIR>          ..\n",
      "13/06/2020  10:22 a. m.    <DIR>          .ipynb_checkpoints\n",
      "13/06/2020  10:39 a. m.            13,418 Exploring Jupyter Notebook - Magic Notebook.ipynb\n",
      "13/06/2020  10:17 a. m.             2,383 My FirstNotebook.ipynb\n",
      "13/06/2020  10:38 a. m.                41 test.txt\n",
      "               3 archivos         15,842 bytes\n",
      "               3 dirs  224,592,646,144 bytes libres\n"
     ]
    }
   ],
   "source": [
    "#magic function : ls verificar existencia archivo\n",
    "%ls"
   ]
  },
  {
   "cell_type": "code",
   "execution_count": 14,
   "metadata": {},
   "outputs": [
    {
     "data": {
      "text/html": [
       "<i> Image in Jupyter notebook</i>\n",
       "<img src=\"https://i.pinimg.com/originals/3a/b6/07/3ab607530e37bb07599a1d303d50baf9.jpg\" alt=\"Image Example\">\n"
      ],
      "text/plain": [
       "<IPython.core.display.HTML object>"
      ]
     },
     "metadata": {},
     "output_type": "display_data"
    }
   ],
   "source": [
    "#Insertar HTML\n",
    "%%HTML\n",
    "<i> Image in Jupyter notebook</i>\n",
    "<img src=\"https://i.pinimg.com/originals/3a/b6/07/3ab607530e37bb07599a1d303d50baf9.jpg\" alt=\"Image Example\">"
   ]
  },
  {
   "cell_type": "markdown",
   "metadata": {},
   "source": [
    "MAGIC FUNCTION: LOAD_EXT INSTALL EXT"
   ]
  },
  {
   "cell_type": "code",
   "execution_count": 15,
   "metadata": {},
   "outputs": [
    {
     "name": "stdout",
     "output_type": "stream",
     "text": [
      "Collecting ipython-sql\n",
      "  Downloading ipython_sql-0.4.0-py3-none-any.whl (19 kB)\n",
      "Requirement already satisfied: ipython>=1.0 in c:\\users\\adata\\anaconda3\\lib\\site-packages (from ipython-sql) (7.12.0)\n",
      "Collecting prettytable<1\n",
      "  Downloading prettytable-0.7.2.tar.bz2 (21 kB)\n",
      "Requirement already satisfied: six in c:\\users\\adata\\appdata\\roaming\\python\\python37\\site-packages (from ipython-sql) (1.12.0)\n",
      "Requirement already satisfied: sqlalchemy>=0.6.7 in c:\\users\\adata\\anaconda3\\lib\\site-packages (from ipython-sql) (1.3.13)\n",
      "Collecting sqlparse\n",
      "  Downloading sqlparse-0.3.1-py2.py3-none-any.whl (40 kB)\n",
      "Requirement already satisfied: ipython-genutils>=0.1.0 in c:\\users\\adata\\anaconda3\\lib\\site-packages (from ipython-sql) (0.2.0)\n",
      "Requirement already satisfied: pygments in c:\\users\\adata\\anaconda3\\lib\\site-packages (from ipython>=1.0->ipython-sql) (2.5.2)\n",
      "Requirement already satisfied: setuptools>=18.5 in c:\\users\\adata\\anaconda3\\lib\\site-packages (from ipython>=1.0->ipython-sql) (45.2.0.post20200210)\n",
      "Requirement already satisfied: decorator in c:\\users\\adata\\anaconda3\\lib\\site-packages (from ipython>=1.0->ipython-sql) (4.4.1)\n",
      "Requirement already satisfied: colorama; sys_platform == \"win32\" in c:\\users\\adata\\appdata\\roaming\\python\\python37\\site-packages (from ipython>=1.0->ipython-sql) (0.4.1)\n",
      "Requirement already satisfied: prompt-toolkit!=3.0.0,!=3.0.1,<3.1.0,>=2.0.0 in c:\\users\\adata\\anaconda3\\lib\\site-packages (from ipython>=1.0->ipython-sql) (3.0.3)\n",
      "Requirement already satisfied: pickleshare in c:\\users\\adata\\anaconda3\\lib\\site-packages (from ipython>=1.0->ipython-sql) (0.7.5)\n",
      "Requirement already satisfied: traitlets>=4.2 in c:\\users\\adata\\anaconda3\\lib\\site-packages (from ipython>=1.0->ipython-sql) (4.3.3)\n",
      "Requirement already satisfied: backcall in c:\\users\\adata\\anaconda3\\lib\\site-packages (from ipython>=1.0->ipython-sql) (0.1.0)\n",
      "Requirement already satisfied: jedi>=0.10 in c:\\users\\adata\\anaconda3\\lib\\site-packages (from ipython>=1.0->ipython-sql) (0.14.1)\n",
      "Requirement already satisfied: wcwidth in c:\\users\\adata\\anaconda3\\lib\\site-packages (from prompt-toolkit!=3.0.0,!=3.0.1,<3.1.0,>=2.0.0->ipython>=1.0->ipython-sql) (0.1.8)\n",
      "Requirement already satisfied: parso>=0.5.0 in c:\\users\\adata\\anaconda3\\lib\\site-packages (from jedi>=0.10->ipython>=1.0->ipython-sql) (0.5.2)\n",
      "Building wheels for collected packages: prettytable\n",
      "  Building wheel for prettytable (setup.py): started\n",
      "  Building wheel for prettytable (setup.py): finished with status 'done'\n",
      "  Created wheel for prettytable: filename=prettytable-0.7.2-py3-none-any.whl size=13704 sha256=5dd79823db1e15d92323152dc6ddd4bb5891a6e4a3b804a06ef84d440d6e79c9\n",
      "  Stored in directory: c:\\users\\adata\\appdata\\local\\pip\\cache\\wheels\\8c\\76\\0b\\eb9eb3da7e2335e3577e3f96a0ae9f74f206e26457bd1a2bc8\n",
      "Successfully built prettytable\n",
      "Installing collected packages: prettytable, sqlparse, ipython-sql\n",
      "Successfully installed ipython-sql-0.4.0 prettytable-0.7.2 sqlparse-0.3.1\n"
     ]
    }
   ],
   "source": [
    "!pip install ipython-sql"
   ]
  },
  {
   "cell_type": "code",
   "execution_count": 18,
   "metadata": {},
   "outputs": [
    {
     "data": {
      "text/plain": [
       "['Requirement already satisfied: ipython-sql in c:\\\\users\\\\adata\\\\anaconda3\\\\lib\\\\site-packages (0.4.0)',\n",
       " 'Requirement already satisfied: six in c:\\\\users\\\\adata\\\\appdata\\\\roaming\\\\python\\\\python37\\\\site-packages (from ipython-sql) (1.12.0)',\n",
       " 'Requirement already satisfied: ipython-genutils>=0.1.0 in c:\\\\users\\\\adata\\\\anaconda3\\\\lib\\\\site-packages (from ipython-sql) (0.2.0)',\n",
       " 'Requirement already satisfied: sqlparse in c:\\\\users\\\\adata\\\\anaconda3\\\\lib\\\\site-packages (from ipython-sql) (0.3.1)',\n",
       " 'Requirement already satisfied: sqlalchemy>=0.6.7 in c:\\\\users\\\\adata\\\\anaconda3\\\\lib\\\\site-packages (from ipython-sql) (1.3.13)',\n",
       " 'Requirement already satisfied: ipython>=1.0 in c:\\\\users\\\\adata\\\\anaconda3\\\\lib\\\\site-packages (from ipython-sql) (7.12.0)',\n",
       " 'Requirement already satisfied: prettytable<1 in c:\\\\users\\\\adata\\\\anaconda3\\\\lib\\\\site-packages (from ipython-sql) (0.7.2)',\n",
       " 'Requirement already satisfied: setuptools>=18.5 in c:\\\\users\\\\adata\\\\anaconda3\\\\lib\\\\site-packages (from ipython>=1.0->ipython-sql) (45.2.0.post20200210)',\n",
       " 'Requirement already satisfied: backcall in c:\\\\users\\\\adata\\\\anaconda3\\\\lib\\\\site-packages (from ipython>=1.0->ipython-sql) (0.1.0)',\n",
       " 'Requirement already satisfied: pygments in c:\\\\users\\\\adata\\\\anaconda3\\\\lib\\\\site-packages (from ipython>=1.0->ipython-sql) (2.5.2)',\n",
       " 'Requirement already satisfied: colorama; sys_platform == \"win32\" in c:\\\\users\\\\adata\\\\appdata\\\\roaming\\\\python\\\\python37\\\\site-packages (from ipython>=1.0->ipython-sql) (0.4.1)',\n",
       " 'Requirement already satisfied: decorator in c:\\\\users\\\\adata\\\\anaconda3\\\\lib\\\\site-packages (from ipython>=1.0->ipython-sql) (4.4.1)',\n",
       " 'Requirement already satisfied: jedi>=0.10 in c:\\\\users\\\\adata\\\\anaconda3\\\\lib\\\\site-packages (from ipython>=1.0->ipython-sql) (0.14.1)',\n",
       " 'Requirement already satisfied: pickleshare in c:\\\\users\\\\adata\\\\anaconda3\\\\lib\\\\site-packages (from ipython>=1.0->ipython-sql) (0.7.5)',\n",
       " 'Requirement already satisfied: prompt-toolkit!=3.0.0,!=3.0.1,<3.1.0,>=2.0.0 in c:\\\\users\\\\adata\\\\anaconda3\\\\lib\\\\site-packages (from ipython>=1.0->ipython-sql) (3.0.3)',\n",
       " 'Requirement already satisfied: traitlets>=4.2 in c:\\\\users\\\\adata\\\\anaconda3\\\\lib\\\\site-packages (from ipython>=1.0->ipython-sql) (4.3.3)',\n",
       " 'Requirement already satisfied: parso>=0.5.0 in c:\\\\users\\\\adata\\\\anaconda3\\\\lib\\\\site-packages (from jedi>=0.10->ipython>=1.0->ipython-sql) (0.5.2)',\n",
       " 'Requirement already satisfied: wcwidth in c:\\\\users\\\\adata\\\\anaconda3\\\\lib\\\\site-packages (from prompt-toolkit!=3.0.0,!=3.0.1,<3.1.0,>=2.0.0->ipython>=1.0->ipython-sql) (0.1.8)']"
      ]
     },
     "execution_count": 18,
     "metadata": {},
     "output_type": "execute_result"
    }
   ],
   "source": [
    "%%! \n",
    "pip install ipython-sql"
   ]
  },
  {
   "cell_type": "code",
   "execution_count": 20,
   "metadata": {},
   "outputs": [
    {
     "name": "stdout",
     "output_type": "stream",
     "text": [
      "The sql extension is already loaded. To reload it, use:\n",
      "  %reload_ext sql\n"
     ]
    }
   ],
   "source": [
    "#carga la extensión\n",
    "%load_ext sql"
   ]
  },
  {
   "cell_type": "code",
   "execution_count": 26,
   "metadata": {},
   "outputs": [],
   "source": [
    "#NOs conectamos a SQLITE\n",
    "%sql sqlite://"
   ]
  },
  {
   "cell_type": "code",
   "execution_count": 28,
   "metadata": {},
   "outputs": [
    {
     "name": "stdout",
     "output_type": "stream",
     "text": [
      " * sqlite://\n",
      "(sqlite3.OperationalError) table classroom already exists\n",
      "[SQL: CREATE TABLE classroom(name,age, totalmarks);]\n",
      "(Background on this error at: http://sqlalche.me/e/e3q8)\n"
     ]
    }
   ],
   "source": [
    "#Se usa doble % cuando se requiere usar expresiones multilinea\n",
    "%%sql\n",
    "CREATE TABLE classroom(name,age, totalmarks);\n",
    "INSERT INTO classroom VALUES ('Raj',20,89);\n",
    "INSERT INTO classroom VALUES ('Poonam',24,84);"
   ]
  },
  {
   "cell_type": "code",
   "execution_count": 30,
   "metadata": {},
   "outputs": [
    {
     "name": "stdout",
     "output_type": "stream",
     "text": [
      " * sqlite://\n",
      "Done.\n"
     ]
    },
    {
     "data": {
      "text/html": [
       "<table>\n",
       "    <tr>\n",
       "        <th>name</th>\n",
       "        <th>age</th>\n",
       "        <th>totalmarks</th>\n",
       "    </tr>\n",
       "    <tr>\n",
       "        <td>Raj</td>\n",
       "        <td>20</td>\n",
       "        <td>89</td>\n",
       "    </tr>\n",
       "    <tr>\n",
       "        <td>Poonam</td>\n",
       "        <td>24</td>\n",
       "        <td>84</td>\n",
       "    </tr>\n",
       "</table>"
      ],
      "text/plain": [
       "[('Raj', 20, 89), ('Poonam', 24, 84)]"
      ]
     },
     "execution_count": 30,
     "metadata": {},
     "output_type": "execute_result"
    }
   ],
   "source": [
    "%sql SELECT * from classroom;"
   ]
  },
  {
   "cell_type": "markdown",
   "metadata": {},
   "source": [
    "#magic function:lsmagic"
   ]
  },
  {
   "cell_type": "code",
   "execution_count": 32,
   "metadata": {},
   "outputs": [
    {
     "data": {
      "application/json": {
       "cell": {
        "!": "OSMagics",
        "HTML": "Other",
        "SVG": "Other",
        "bash": "Other",
        "capture": "ExecutionMagics",
        "cmd": "Other",
        "debug": "ExecutionMagics",
        "file": "Other",
        "html": "DisplayMagics",
        "javascript": "DisplayMagics",
        "js": "DisplayMagics",
        "latex": "DisplayMagics",
        "markdown": "DisplayMagics",
        "perl": "Other",
        "prun": "ExecutionMagics",
        "pypy": "Other",
        "python": "Other",
        "python2": "Other",
        "python3": "Other",
        "ruby": "Other",
        "script": "ScriptMagics",
        "sh": "Other",
        "sql": "SqlMagic",
        "svg": "DisplayMagics",
        "sx": "OSMagics",
        "system": "OSMagics",
        "time": "ExecutionMagics",
        "timeit": "ExecutionMagics",
        "writefile": "OSMagics"
       },
       "line": {
        "alias": "OSMagics",
        "alias_magic": "BasicMagics",
        "autoawait": "AsyncMagics",
        "autocall": "AutoMagics",
        "automagic": "AutoMagics",
        "autosave": "KernelMagics",
        "bookmark": "OSMagics",
        "cd": "OSMagics",
        "clear": "KernelMagics",
        "cls": "KernelMagics",
        "colors": "BasicMagics",
        "conda": "PackagingMagics",
        "config": "ConfigMagics",
        "connect_info": "KernelMagics",
        "copy": "Other",
        "ddir": "Other",
        "debug": "ExecutionMagics",
        "dhist": "OSMagics",
        "dirs": "OSMagics",
        "doctest_mode": "BasicMagics",
        "echo": "Other",
        "ed": "Other",
        "edit": "KernelMagics",
        "env": "OSMagics",
        "gui": "BasicMagics",
        "hist": "Other",
        "history": "HistoryMagics",
        "killbgscripts": "ScriptMagics",
        "ldir": "Other",
        "less": "KernelMagics",
        "load": "CodeMagics",
        "load_ext": "ExtensionMagics",
        "loadpy": "CodeMagics",
        "logoff": "LoggingMagics",
        "logon": "LoggingMagics",
        "logstart": "LoggingMagics",
        "logstate": "LoggingMagics",
        "logstop": "LoggingMagics",
        "ls": "Other",
        "lsmagic": "BasicMagics",
        "macro": "ExecutionMagics",
        "magic": "BasicMagics",
        "matplotlib": "PylabMagics",
        "mkdir": "Other",
        "more": "KernelMagics",
        "notebook": "BasicMagics",
        "page": "BasicMagics",
        "pastebin": "CodeMagics",
        "pdb": "ExecutionMagics",
        "pdef": "NamespaceMagics",
        "pdoc": "NamespaceMagics",
        "pfile": "NamespaceMagics",
        "pinfo": "NamespaceMagics",
        "pinfo2": "NamespaceMagics",
        "pip": "PackagingMagics",
        "popd": "OSMagics",
        "pprint": "BasicMagics",
        "precision": "BasicMagics",
        "prun": "ExecutionMagics",
        "psearch": "NamespaceMagics",
        "psource": "NamespaceMagics",
        "pushd": "OSMagics",
        "pwd": "OSMagics",
        "pycat": "OSMagics",
        "pylab": "PylabMagics",
        "qtconsole": "KernelMagics",
        "quickref": "BasicMagics",
        "recall": "HistoryMagics",
        "rehashx": "OSMagics",
        "reload_ext": "ExtensionMagics",
        "ren": "Other",
        "rep": "Other",
        "rerun": "HistoryMagics",
        "reset": "NamespaceMagics",
        "reset_selective": "NamespaceMagics",
        "rmdir": "Other",
        "run": "ExecutionMagics",
        "save": "CodeMagics",
        "sc": "OSMagics",
        "set_env": "OSMagics",
        "sql": "SqlMagic",
        "store": "StoreMagics",
        "sx": "OSMagics",
        "system": "OSMagics",
        "tb": "ExecutionMagics",
        "time": "ExecutionMagics",
        "timeit": "ExecutionMagics",
        "unalias": "OSMagics",
        "unload_ext": "ExtensionMagics",
        "who": "NamespaceMagics",
        "who_ls": "NamespaceMagics",
        "whos": "NamespaceMagics",
        "xdel": "NamespaceMagics",
        "xmode": "BasicMagics"
       }
      },
      "text/plain": [
       "Available line magics:\n",
       "%alias  %alias_magic  %autoawait  %autocall  %automagic  %autosave  %bookmark  %cd  %clear  %cls  %colors  %conda  %config  %connect_info  %copy  %ddir  %debug  %dhist  %dirs  %doctest_mode  %echo  %ed  %edit  %env  %gui  %hist  %history  %killbgscripts  %ldir  %less  %load  %load_ext  %loadpy  %logoff  %logon  %logstart  %logstate  %logstop  %ls  %lsmagic  %macro  %magic  %matplotlib  %mkdir  %more  %notebook  %page  %pastebin  %pdb  %pdef  %pdoc  %pfile  %pinfo  %pinfo2  %pip  %popd  %pprint  %precision  %prun  %psearch  %psource  %pushd  %pwd  %pycat  %pylab  %qtconsole  %quickref  %recall  %rehashx  %reload_ext  %ren  %rep  %rerun  %reset  %reset_selective  %rmdir  %run  %save  %sc  %set_env  %sql  %store  %sx  %system  %tb  %time  %timeit  %unalias  %unload_ext  %who  %who_ls  %whos  %xdel  %xmode\n",
       "\n",
       "Available cell magics:\n",
       "%%!  %%HTML  %%SVG  %%bash  %%capture  %%cmd  %%debug  %%file  %%html  %%javascript  %%js  %%latex  %%markdown  %%perl  %%prun  %%pypy  %%python  %%python2  %%python3  %%ruby  %%script  %%sh  %%sql  %%svg  %%sx  %%system  %%time  %%timeit  %%writefile\n",
       "\n",
       "Automagic is ON, % prefix IS NOT needed for line magics."
      ]
     },
     "execution_count": 32,
     "metadata": {},
     "output_type": "execute_result"
    }
   ],
   "source": [
    "#Lista de funciones mágicas\n",
    "%lsmagic"
   ]
  },
  {
   "cell_type": "code",
   "execution_count": 33,
   "metadata": {},
   "outputs": [],
   "source": [
    "#Plantilla https://github.com/drivendata/cookiecutter-data-science"
   ]
  }
 ],
 "metadata": {
  "kernelspec": {
   "display_name": "Python 3",
   "language": "python",
   "name": "python3"
  },
  "language_info": {
   "codemirror_mode": {
    "name": "ipython",
    "version": 3
   },
   "file_extension": ".py",
   "mimetype": "text/x-python",
   "name": "python",
   "nbconvert_exporter": "python",
   "pygments_lexer": "ipython3",
   "version": "3.7.6"
  }
 },
 "nbformat": 4,
 "nbformat_minor": 4
}
