{
 "cells": [
  {
   "cell_type": "markdown",
   "metadata": {},
   "source": [
    "## Extracting data for Relational DataBase"
   ]
  },
  {
   "cell_type": "markdown",
   "metadata": {},
   "source": [
    "SQLite Database"
   ]
  },
  {
   "cell_type": "markdown",
   "metadata": {},
   "source": [
    "import package"
   ]
  },
  {
   "cell_type": "code",
   "execution_count": 4,
   "metadata": {},
   "outputs": [],
   "source": [
    "#import sqlite3 package\n",
    "import sqlite3"
   ]
  },
  {
   "cell_type": "markdown",
   "metadata": {},
   "source": [
    "connect to database"
   ]
  },
  {
   "cell_type": "code",
   "execution_count": 7,
   "metadata": {},
   "outputs": [],
   "source": [
    "#create a connection to database : create the database if not available\n",
    "connection = sqlite3.connect(\"classroomDB.db\")\n",
    "connection.close()"
   ]
  },
  {
   "cell_type": "markdown",
   "metadata": {},
   "source": [
    "#### create table"
   ]
  },
  {
   "cell_type": "code",
   "execution_count": 9,
   "metadata": {},
   "outputs": [
    {
     "ename": "OperationalError",
     "evalue": "table classroom already exists",
     "output_type": "error",
     "traceback": [
      "\u001b[1;31m---------------------------------------------------------------------------\u001b[0m",
      "\u001b[1;31mOperationalError\u001b[0m                          Traceback (most recent call last)",
      "\u001b[1;32m<ipython-input-9-0bd4148024c7>\u001b[0m in \u001b[0;36m<module>\u001b[1;34m()\u001b[0m\n\u001b[0;32m     15\u001b[0m                 );\"\"\"\n\u001b[0;32m     16\u001b[0m \u001b[1;31m# Execute query\u001b[0m\u001b[1;33m\u001b[0m\u001b[1;33m\u001b[0m\u001b[0m\n\u001b[1;32m---> 17\u001b[1;33m \u001b[0mcursor\u001b[0m\u001b[1;33m.\u001b[0m\u001b[0mexecute\u001b[0m\u001b[1;33m(\u001b[0m\u001b[0mcreate_table\u001b[0m\u001b[1;33m)\u001b[0m\u001b[1;33m\u001b[0m\u001b[0m\n\u001b[0m\u001b[0;32m     18\u001b[0m \u001b[1;31m# commit changes\u001b[0m\u001b[1;33m\u001b[0m\u001b[1;33m\u001b[0m\u001b[0m\n\u001b[0;32m     19\u001b[0m \u001b[0mconnection\u001b[0m\u001b[1;33m.\u001b[0m\u001b[0mcommit\u001b[0m\u001b[1;33m(\u001b[0m\u001b[1;33m)\u001b[0m\u001b[1;33m\u001b[0m\u001b[0m\n",
      "\u001b[1;31mOperationalError\u001b[0m: table classroom already exists"
     ]
    }
   ],
   "source": [
    "# open connection\n",
    "connection = sqlite3.connect(\"classroomDB.db\")\n",
    "# open cursor\n",
    "cursor = connection.cursor()\n",
    "# query for creating table\n",
    "create_table = \"\"\"\n",
    "                CREATE TABLE classroom (\n",
    "                            student_id INTEGER PRIMARY KEY,\n",
    "                            name VARCHAR(20),\n",
    "                            gender CHAR(1),\n",
    "                            physics_marks INTEGER,\n",
    "                            chemestry_marks INTEGER,\n",
    "                            mathematics_marks INTEGER\n",
    "                \n",
    "                );\"\"\"\n",
    "# Execute query\n",
    "cursor.execute(create_table)\n",
    "# commit changes\n",
    "connection.commit()\n",
    "#close connection\n",
    "connection.close()"
   ]
  },
  {
   "cell_type": "markdown",
   "metadata": {},
   "source": [
    "#### Insert Data"
   ]
  },
  {
   "cell_type": "code",
   "execution_count": 15,
   "metadata": {},
   "outputs": [
    {
     "ename": "IntegrityError",
     "evalue": "UNIQUE constraint failed: classroom.student_id",
     "output_type": "error",
     "traceback": [
      "\u001b[1;31m---------------------------------------------------------------------------\u001b[0m",
      "\u001b[1;31mIntegrityError\u001b[0m                            Traceback (most recent call last)",
      "\u001b[1;32m<ipython-input-15-3e4d0f1abe9c>\u001b[0m in \u001b[0;36m<module>\u001b[1;34m()\u001b[0m\n\u001b[0;32m     17\u001b[0m                                                                 student[3],student[4], student[5])\n\u001b[0;32m     18\u001b[0m     \u001b[1;31m#execute insert query\u001b[0m\u001b[1;33m\u001b[0m\u001b[1;33m\u001b[0m\u001b[0m\n\u001b[1;32m---> 19\u001b[1;33m     \u001b[0mcursor\u001b[0m\u001b[1;33m.\u001b[0m\u001b[0mexecute\u001b[0m\u001b[1;33m(\u001b[0m\u001b[0minsert_statement\u001b[0m\u001b[1;33m)\u001b[0m\u001b[1;33m\u001b[0m\u001b[0m\n\u001b[0m\u001b[0;32m     20\u001b[0m \u001b[1;33m\u001b[0m\u001b[0m\n\u001b[0;32m     21\u001b[0m \u001b[1;31m#commint the changes\u001b[0m\u001b[1;33m\u001b[0m\u001b[1;33m\u001b[0m\u001b[0m\n",
      "\u001b[1;31mIntegrityError\u001b[0m: UNIQUE constraint failed: classroom.student_id"
     ]
    }
   ],
   "source": [
    "#sample data -lista de tuplas anidadas -> Lista [] Tupla ()\n",
    "classroom_data = [(1, \"Raj\",\"M\", 70, 84, 92),\n",
    "                  (2, \"Poonam\",\"F\", 87, 69, 93),\n",
    "                  (3, \"Nik\",\"M\",65,83,90),\n",
    "                  (4,\"Rahul\",\"F\", 83, 76, 89)]\n",
    "#Open connection\n",
    "connection = sqlite3.connect(\"classroomDB.db\")\n",
    "#open cursor\n",
    "cursor = connection.cursor()\n",
    "#insert each student record\n",
    "for student in classroom_data:\n",
    "    #formatted query string\n",
    "    insert_statement = \"\"\"INSERT INTO classroom\n",
    "                       (student_id, name, gender, physics_marks, chemestry_marks, mathematics_marks)\n",
    "                       VALUES\n",
    "                       ({0}, \"{1}\",\"{2}\",{3},{4},{5});\"\"\".format(student[0],student[1], student[2],\n",
    "                                                                student[3],student[4], student[5])\n",
    "    #execute insert query\n",
    "    cursor.execute(insert_statement)\n",
    "\n",
    "#commint the changes\n",
    "connection.commit()\n",
    "\n",
    "#close the connection\n",
    "connection.close()"
   ]
  },
  {
   "cell_type": "markdown",
   "metadata": {},
   "source": [
    "#### extract Data"
   ]
  },
  {
   "cell_type": "code",
   "execution_count": 17,
   "metadata": {},
   "outputs": [
    {
     "name": "stdout",
     "output_type": "stream",
     "text": [
      "(1, u'Raj', u'M', 70, 84, 92)\n",
      "(2, u'Poonam', u'F', 87, 69, 93)\n",
      "(3, u'Nik', u'M', 65, 83, 90)\n",
      "(4, u'Rahul', u'F', 83, 76, 89)\n"
     ]
    }
   ],
   "source": [
    "# open connection\n",
    "connection = sqlite3.connect(\"classroomDB.db\")\n",
    "# open cursor\n",
    "cursor = connection.cursor()\n",
    "#query\n",
    "query=\"SELECT * FROM classroom\"\n",
    "#execute query\n",
    "cursor.execute(query)\n",
    "#fetch results\n",
    "result = cursor.fetchall()\n",
    "#print results\n",
    "for row in result:\n",
    "    print(row)\n",
    "#close connection\n",
    "connection.close()"
   ]
  },
  {
   "cell_type": "markdown",
   "metadata": {},
   "source": [
    "#### MySQL Database"
   ]
  },
  {
   "cell_type": "markdown",
   "metadata": {},
   "source": [
    "##### Intall Package"
   ]
  },
  {
   "cell_type": "code",
   "execution_count": 19,
   "metadata": {},
   "outputs": [
    {
     "name": "stdout",
     "output_type": "stream",
     "text": [
      "Collecting package metadata (current_repodata.json): ...working... done\n",
      "Solving environment: ...working... done\n",
      "\n",
      "## Package Plan ##\n",
      "\n",
      "  environment location: C:\\Users\\ADATA\\Anaconda2\n",
      "\n",
      "  added / updated specs:\n",
      "    - pymysql\n",
      "\n",
      "\n",
      "The following packages will be downloaded:\n",
      "\n",
      "    package                    |            build\n",
      "    ---------------------------|-----------------\n",
      "    conda-4.8.3                |           py27_0         2.8 MB\n",
      "    pymysql-0.9.3              |           py27_0          84 KB\n",
      "    ------------------------------------------------------------\n",
      "                                           Total:         2.9 MB\n",
      "\n",
      "The following NEW packages will be INSTALLED:\n",
      "\n",
      "  pymysql            pkgs/main/win-64::pymysql-0.9.3-py27_0\n",
      "\n",
      "The following packages will be UPDATED:\n",
      "\n",
      "  conda                                       4.7.12-py27_0 --> 4.8.3-py27_0\n",
      "\n",
      "\n",
      "Preparing transaction: ...working... done\n",
      "Verifying transaction: ...working... done\n",
      "Executing transaction: ...working... done\n"
     ]
    }
   ],
   "source": [
    "#Intall package whith CONDA\n",
    "#Parameter -y accept instalation and parameter -q is used for not show details out intallation\n",
    "!conda install -y -q pymysql"
   ]
  },
  {
   "cell_type": "markdown",
   "metadata": {},
   "source": [
    "#### Import Package"
   ]
  },
  {
   "cell_type": "code",
   "execution_count": 80,
   "metadata": {},
   "outputs": [],
   "source": [
    "#When install finished, import package\n",
    "import pymysql"
   ]
  },
  {
   "cell_type": "markdown",
   "metadata": {},
   "source": [
    "#### connect to database"
   ]
  },
  {
   "cell_type": "code",
   "execution_count": 81,
   "metadata": {},
   "outputs": [],
   "source": [
    "# Connection details\n",
    "cnx={'host':'127.0.0.1',\n",
    "     'username':'root',\n",
    "     'password':'qwerty321',\n",
    "     'db':'classroomDB'}\n",
    "\n",
    "#Connect to the database\n",
    "connection = pymysql.connect(cnx['host'],cnx['username'],cnx['password'],cnx['db'])\n",
    "#close database\n",
    "connection.close()"
   ]
  },
  {
   "cell_type": "code",
   "execution_count": 82,
   "metadata": {},
   "outputs": [],
   "source": [
    "#open connection\n",
    "connection = pymysql.connect(cnx['host'],cnx['username'],cnx['password'],cnx['db'])\n",
    "#open cursor\n",
    "cursor = connection.cursor()\n",
    "#query for creating table\n",
    "create_table=\"\"\"\n",
    "             CREATE TABLE classroom (\n",
    "             student_id INTEGER PRIMARY KEY,\n",
    "             name VARCHAR(20),\n",
    "             gender CHAR(1),\n",
    "             physics_marks INTEGER,\n",
    "             chemestry_marks INTEGER,\n",
    "             mathematics_marks INTEGER\n",
    "             );\"\"\"\n",
    "\n",
    "#EXECUTE QUERY\n",
    "cursor.execute(create_table)\n",
    "#commit changes\n",
    "connection.commit()\n",
    "#close connection\n",
    "connection.close()"
   ]
  },
  {
   "cell_type": "markdown",
   "metadata": {},
   "source": [
    "#### Insert Data"
   ]
  },
  {
   "cell_type": "code",
   "execution_count": 83,
   "metadata": {},
   "outputs": [],
   "source": [
    "#sample data\n",
    "classroom_data = [(1,\"Raj\",\"M\",70,84,92),\n",
    "                  (2,\"Poonam\",\"F\",87,69,93),\n",
    "                  (3,\"Nik\",\"M\",65,83,90),\n",
    "                  (4,\"Rahul\",\"M\",83,76,89)]\n",
    "#Open Connection\n",
    "connection=pymysql.connect(cnx['host'],cnx['username'],cnx['password'],cnx['db'])\n",
    "#open cursor\n",
    "cursor=connection.cursor()\n",
    "#insert each student record\n",
    "for student in classroom_data:\n",
    "    #formatted query string\n",
    "    insert_statement = \"\"\"INSERT INTO classroom\n",
    "                       (student_id, name, gender, physics_marks, chemestry_marks, mathematics_marks)\n",
    "                       VALUES\n",
    "                       ({0}, \"{1}\",\"{2}\",{3},{4},{5});\"\"\".format(student[0],student[1], student[2],\n",
    "                                                                student[3],student[4], student[5])\n",
    "    #execute insert query\n",
    "    cursor.execute(insert_statement)\n",
    "\n",
    "#commint the changes\n",
    "connection.commit()\n",
    "\n",
    "#close the connection\n",
    "connection.close()"
   ]
  },
  {
   "cell_type": "code",
   "execution_count": 84,
   "metadata": {},
   "outputs": [
    {
     "name": "stdout",
     "output_type": "stream",
     "text": [
      "(1, 'Raj', 'M', 70, 84, 92)\n",
      "(2, 'Poonam', 'F', 87, 69, 93)\n",
      "(3, 'Nik', 'M', 65, 83, 90)\n",
      "(4, 'Rahul', 'M', 83, 76, 89)\n"
     ]
    }
   ],
   "source": [
    "# open connection\n",
    "connection = pymysql.connect(cnx['host'],cnx['username'],cnx['password'],cnx['db'])\n",
    "# open cursor\n",
    "cursor = connection.cursor()\n",
    "#query\n",
    "query=\"SELECT * FROM classroom\"\n",
    "#execute query\n",
    "cursor.execute(query)\n",
    "#fetch results\n",
    "result = cursor.fetchall()\n",
    "#print results\n",
    "for row in result:\n",
    "    print(row)\n",
    "#close connection\n",
    "connection.close()"
   ]
  },
  {
   "cell_type": "markdown",
   "metadata": {},
   "source": [
    "### Microsoft SQL Server"
   ]
  },
  {
   "cell_type": "markdown",
   "metadata": {},
   "source": [
    "#### Intall package"
   ]
  },
  {
   "cell_type": "code",
   "execution_count": 150,
   "metadata": {},
   "outputs": [
    {
     "name": "stdout",
     "output_type": "stream",
     "text": [
      "Requirement already satisfied: pypyodbc in c:\\users\\adata\\anaconda2\\lib\\site-packages (1.3.4)\n",
      "Requirement already satisfied: setuptools in c:\\users\\adata\\anaconda2\\lib\\site-packages (from pypyodbc) (44.0.0.post20200106)\n"
     ]
    },
    {
     "name": "stderr",
     "output_type": "stream",
     "text": [
      "DEPRECATION: Python 2.7 will reach the end of its life on January 1st, 2020. Please upgrade your Python as Python 2.7 won't be maintained after that date. A future version of pip will drop support for Python 2.7. More details about Python 2 support in pip, can be found at https://pip.pypa.io/en/latest/development/release-process/#python-2-support\n"
     ]
    }
   ],
   "source": [
    "!pip install pypyodbc"
   ]
  },
  {
   "cell_type": "markdown",
   "metadata": {},
   "source": [
    "#### import package"
   ]
  },
  {
   "cell_type": "code",
   "execution_count": 151,
   "metadata": {},
   "outputs": [],
   "source": [
    "import pypyodbc as podbc"
   ]
  },
  {
   "cell_type": "markdown",
   "metadata": {},
   "source": [
    "#### connect to database"
   ]
  },
  {
   "cell_type": "code",
   "execution_count": 157,
   "metadata": {},
   "outputs": [],
   "source": [
    "cnxn = podbc.connect(\"DRIVER={ODBC Driver 17 for SQL Server};\"\n",
    "                  \"SERVER=(localdb)\\mssqllocaldb;\"\n",
    "                  \"DATABASE=CentroMedico;\"\n",
    "                  \"UID=daemon;\"\n",
    "                  \"PWD=gomugomu123;\")"
   ]
  },
  {
   "cell_type": "markdown",
   "metadata": {},
   "source": [
    "#### Create Table"
   ]
  },
  {
   "cell_type": "code",
   "execution_count": 180,
   "metadata": {},
   "outputs": [
    {
     "name": "stdout",
     "output_type": "stream",
     "text": [
      "(1, 'TRAUMATOLOGIA')\n",
      "(2, 'INTERNISTA')\n",
      "(3, 'ANESTESEOLOGIA')\n",
      "(4, 'ONCOLOGO')\n",
      "(5, 'UROLOGO')\n",
      "(6, 'DERMATOLOGO')\n"
     ]
    }
   ],
   "source": [
    "cnxn = podbc.connect(\"DRIVER={ODBC Driver 17 for SQL Server};\"\n",
    "                  \"SERVER=(localdb)\\mssqllocaldb;\"\n",
    "                  \"DATABASE=CentroMedico;\"\n",
    "                  \"UID=daemon;\"\n",
    "                  \"PWD=gomugomu123;\")\n",
    "\n",
    "cursor = cnxn.cursor()\n",
    "\n",
    "sql = \"SELECT * FROM Especialidad\"\n",
    "\n",
    "cursor.execute(sql)\n",
    "\n",
    "for row in cursor.fetchall():\n",
    "    print (row)\n",
    "    \n",
    "#close connection\n",
    "cnxn.close()"
   ]
  },
  {
   "cell_type": "markdown",
   "metadata": {},
   "source": [
    "#### Create new table"
   ]
  },
  {
   "cell_type": "code",
   "execution_count": 179,
   "metadata": {},
   "outputs": [],
   "source": [
    "cnxn = podbc.connect(\"DRIVER={ODBC Driver 17 for SQL Server};\"\n",
    "                  \"SERVER=(localdb)\\mssqllocaldb;\"\n",
    "                  \"DATABASE=CentroMedico;\"\n",
    "                  \"UID=daemon;\"\n",
    "                  \"PWD=gomugomu123;\")\n",
    "\n",
    "cursor = cnxn.cursor()\n",
    "#query for creating table\n",
    "create_table=\"\"\"\n",
    "             CREATE TABLE classroomDoctor (\n",
    "             student_id INTEGER PRIMARY KEY,\n",
    "             name VARCHAR(20),\n",
    "             gender CHAR(1),\n",
    "             physics_marks INTEGER,\n",
    "             chemestry_marks INTEGER,\n",
    "             mathematics_marks INTEGER\n",
    "             );\"\"\"\n",
    "\n",
    "#EXECUTE QUERY\n",
    "cursor.execute(create_table)\n",
    "#commit changes\n",
    "cnxn.commit()\n",
    "#close connection\n",
    "cnxn.close()"
   ]
  },
  {
   "cell_type": "markdown",
   "metadata": {},
   "source": [
    "#### Insert Data"
   ]
  },
  {
   "cell_type": "code",
   "execution_count": 209,
   "metadata": {},
   "outputs": [],
   "source": [
    "#sample data\n",
    "classroom_data = [(1,\"Raj\",\"M\",70,84,92),\n",
    "                  (2,\"Poonam\",\"F\",87,69,93),\n",
    "                  (3,\"Nik\",\"M\",65,83,90),\n",
    "                  (4,\"Rulo Tisa\",\"M\",83,76,89)]\n",
    "#Open Connection\n",
    "cnxn = podbc.connect(\"DRIVER={ODBC Driver 17 for SQL Server};\"\n",
    "                  \"SERVER=(localdb)\\mssqllocaldb;\"\n",
    "                  \"DATABASE=CentroMedico;\"\n",
    "                  \"UID=daemon;\"\n",
    "                  \"PWD=gomugomu123;\")\n",
    "#open cursor\n",
    "cursor=cnxn.cursor()\n",
    "\n",
    "insert_statement = (\"INSERT INTO classroomDoctor\"\n",
    "                    \"(student_id, name, gender, physics_marks, chemestry_marks, mathematics_marks)\"\n",
    "                    \"VALUES (?,?,?,?,?,?),(?,?,?,?,?,?),(?,?,?,?,?,?)\")\n",
    "   \n",
    "values = [2,\"Poonam\",\"F\",87,69,93,\n",
    "          3,\"Nik\",\"M\",65,83,90,\n",
    "          4,\"Rulo Tisa\",\"M\",83,76,89]\n",
    "\n",
    "#execute insert query\n",
    "cursor.execute(insert_statement,values)\n",
    "#commint the changes\n",
    "cnxn.commit()\n",
    "\n",
    "#close the connection\n",
    "cnxn.close()"
   ]
  },
  {
   "cell_type": "markdown",
   "metadata": {},
   "source": [
    "#### Extract Data"
   ]
  },
  {
   "cell_type": "code",
   "execution_count": 212,
   "metadata": {},
   "outputs": [
    {
     "name": "stdout",
     "output_type": "stream",
     "text": [
      "(4, 'Rulo Tisa', 'M', 83, 76, 89)\n"
     ]
    }
   ],
   "source": [
    "cnxn = podbc.connect(\"DRIVER={ODBC Driver 17 for SQL Server};\"\n",
    "                  \"SERVER=(localdb)\\mssqllocaldb;\"\n",
    "                  \"DATABASE=CentroMedico;\"\n",
    "                  \"UID=daemon;\"\n",
    "                  \"PWD=gomugomu123;\")\n",
    "\n",
    "cursor = cnxn.cursor()\n",
    "\n",
    "sql = \"SELECT * FROM classroomDoctor where student_id=4\"\n",
    "\n",
    "cursor.execute(sql)\n",
    "\n",
    "for row in cursor.fetchall():\n",
    "    print (row)\n",
    "    \n",
    "#close connection\n",
    "cnxn.close()"
   ]
  },
  {
   "cell_type": "code",
   "execution_count": null,
   "metadata": {},
   "outputs": [],
   "source": []
  }
 ],
 "metadata": {
  "kernelspec": {
   "display_name": "Python 2",
   "language": "python",
   "name": "python2"
  },
  "language_info": {
   "codemirror_mode": {
    "name": "ipython",
    "version": 2
   },
   "file_extension": ".py",
   "mimetype": "text/x-python",
   "name": "python",
   "nbconvert_exporter": "python",
   "pygments_lexer": "ipython2",
   "version": "2.7.16"
  }
 },
 "nbformat": 4,
 "nbformat_minor": 2
}
