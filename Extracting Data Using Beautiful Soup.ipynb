{
 "cells": [
  {
   "cell_type": "code",
   "execution_count": 2,
   "metadata": {},
   "outputs": [],
   "source": [
    "#Import requests\n",
    "import requests\n",
    "#Import BeatifulSoup\n",
    "from bs4 import BeautifulSoup"
   ]
  },
  {
   "cell_type": "code",
   "execution_count": 3,
   "metadata": {},
   "outputs": [],
   "source": [
    "#HTML String\n",
    "html_string = \"\"\"\n",
    "<!doctype html>\n",
    "<html lang=\"en\">\n",
    "<head>\n",
    "  <title>Doing Data Science With Python</title>\n",
    "</head>\n",
    "<body>\n",
    "  <h1 style=\"color:#F15B2A;\">Doing Data Science With Python</h1>\n",
    "  <p id=\"author\">Author : Abhishek Kumar</p>\n",
    "  <p id=\"description\">This course will help you to perform various data science activities using python.</p>\n",
    "  \n",
    "  <h3 style=\"color:#404040\">Modules</h3>\n",
    "  <table id=\"module\" style=\"width:100%\">\n",
    "      <tr>\n",
    "        <th>Title</th>\n",
    "        <th>Duration (In Minutes)</th> \n",
    "      </tr>\n",
    "      <tr>\n",
    "        <td>Getting Started</td>\n",
    "        <td>20</td> \n",
    "      </tr>\n",
    "      <tr>\n",
    "        <td>Setting up the Environment</td>\n",
    "        <td>40</td> \n",
    "      </tr>\n",
    "      <tr>\n",
    "        <td>Extracting Data</td>\n",
    "        <td>35</td> \n",
    "      </tr>\n",
    "      <tr>\n",
    "        <td>Exploring and Processing Data - Part 1</td>\n",
    "        <td>45</td> \n",
    "      </tr>\n",
    "      <tr>\n",
    "        <td>Exploring and Processing Data - Part 2</td>\n",
    "        <td>45</td> \n",
    "      </tr>\n",
    "      <tr>\n",
    "        <td>Building Predictive Model</td>\n",
    "        <td>30</td> \n",
    "      </tr>\n",
    "  </table>\n",
    "</body>\n",
    "</html>\n",
    "\"\"\""
   ]
  },
  {
   "cell_type": "code",
   "execution_count": 4,
   "metadata": {},
   "outputs": [
    {
     "data": {
      "text/html": [
       "\n",
       "<!doctype html>\n",
       "<html lang=\"en\">\n",
       "<head>\n",
       "  <title>Doing Data Science With Python</title>\n",
       "</head>\n",
       "<body>\n",
       "  <h1 style=\"color:#F15B2A;\">Doing Data Science With Python</h1>\n",
       "  <p id=\"author\">Author : Abhishek Kumar</p>\n",
       "  <p id=\"description\">This course will help you to perform various data science activities using python.</p>\n",
       "  \n",
       "  <h3 style=\"color:#404040\">Modules</h3>\n",
       "  <table id=\"module\" style=\"width:100%\">\n",
       "      <tr>\n",
       "        <th>Title</th>\n",
       "        <th>Duration (In Minutes)</th> \n",
       "      </tr>\n",
       "      <tr>\n",
       "        <td>Getting Started</td>\n",
       "        <td>20</td> \n",
       "      </tr>\n",
       "      <tr>\n",
       "        <td>Setting up the Environment</td>\n",
       "        <td>40</td> \n",
       "      </tr>\n",
       "      <tr>\n",
       "        <td>Extracting Data</td>\n",
       "        <td>35</td> \n",
       "      </tr>\n",
       "      <tr>\n",
       "        <td>Exploring and Processing Data - Part 1</td>\n",
       "        <td>45</td> \n",
       "      </tr>\n",
       "      <tr>\n",
       "        <td>Exploring and Processing Data - Part 2</td>\n",
       "        <td>45</td> \n",
       "      </tr>\n",
       "      <tr>\n",
       "        <td>Building Predictive Model</td>\n",
       "        <td>30</td> \n",
       "      </tr>\n",
       "  </table>\n",
       "</body>\n",
       "</html>\n"
      ],
      "text/plain": [
       "<IPython.core.display.HTML object>"
      ]
     },
     "metadata": {},
     "output_type": "display_data"
    }
   ],
   "source": [
    "#Display HTML String in the Jupyter Noteebok\n",
    "from IPython.core.display import display, HTML\n",
    "#Convertinmos HTML_STRING en HTML_OBJECT con la función HTML Y Pasandola a la función Display\n",
    "display(HTML(html_string))"
   ]
  },
  {
   "cell_type": "code",
   "execution_count": 6,
   "metadata": {},
   "outputs": [],
   "source": [
    "#use beatifulSoup\n",
    "ps=BeautifulSoup(html_string)"
   ]
  },
  {
   "cell_type": "code",
   "execution_count": 7,
   "metadata": {
    "collapsed": true
   },
   "outputs": [
    {
     "name": "stdout",
     "output_type": "stream",
     "text": [
      "<!DOCTYPE html>\n",
      "<html lang=\"en\">\n",
      "<head>\n",
      "<title>Doing Data Science With Python</title>\n",
      "</head>\n",
      "<body>\n",
      "<h1 style=\"color:#F15B2A;\">Doing Data Science With Python</h1>\n",
      "<p id=\"author\">Author : Abhishek Kumar</p>\n",
      "<p id=\"description\">This course will help you to perform various data science activities using python.</p>\n",
      "<h3 style=\"color:#404040\">Modules</h3>\n",
      "<table id=\"module\" style=\"width:100%\">\n",
      "<tr>\n",
      "<th>Title</th>\n",
      "<th>Duration (In Minutes)</th>\n",
      "</tr>\n",
      "<tr>\n",
      "<td>Getting Started</td>\n",
      "<td>20</td>\n",
      "</tr>\n",
      "<tr>\n",
      "<td>Setting up the Environment</td>\n",
      "<td>40</td>\n",
      "</tr>\n",
      "<tr>\n",
      "<td>Extracting Data</td>\n",
      "<td>35</td>\n",
      "</tr>\n",
      "<tr>\n",
      "<td>Exploring and Processing Data - Part 1</td>\n",
      "<td>45</td>\n",
      "</tr>\n",
      "<tr>\n",
      "<td>Exploring and Processing Data - Part 2</td>\n",
      "<td>45</td>\n",
      "</tr>\n",
      "<tr>\n",
      "<td>Building Predictive Model</td>\n",
      "<td>30</td>\n",
      "</tr>\n",
      "</table>\n",
      "</body>\n",
      "</html>\n",
      "\n"
     ]
    }
   ],
   "source": [
    "#Print ps\n",
    "print(ps)"
   ]
  },
  {
   "cell_type": "code",
   "execution_count": 10,
   "metadata": {},
   "outputs": [],
   "source": [
    "#use the name parameter to select by tag name\n",
    "body=ps.find(name=\"body\")"
   ]
  },
  {
   "cell_type": "code",
   "execution_count": 11,
   "metadata": {},
   "outputs": [
    {
     "name": "stdout",
     "output_type": "stream",
     "text": [
      "<body>\n",
      "<h1 style=\"color:#F15B2A;\">Doing Data Science With Python</h1>\n",
      "<p id=\"author\">Author : Abhishek Kumar</p>\n",
      "<p id=\"description\">This course will help you to perform various data science activities using python.</p>\n",
      "<h3 style=\"color:#404040\">Modules</h3>\n",
      "<table id=\"module\" style=\"width:100%\">\n",
      "<tr>\n",
      "<th>Title</th>\n",
      "<th>Duration (In Minutes)</th>\n",
      "</tr>\n",
      "<tr>\n",
      "<td>Getting Started</td>\n",
      "<td>20</td>\n",
      "</tr>\n",
      "<tr>\n",
      "<td>Setting up the Environment</td>\n",
      "<td>40</td>\n",
      "</tr>\n",
      "<tr>\n",
      "<td>Extracting Data</td>\n",
      "<td>35</td>\n",
      "</tr>\n",
      "<tr>\n",
      "<td>Exploring and Processing Data - Part 1</td>\n",
      "<td>45</td>\n",
      "</tr>\n",
      "<tr>\n",
      "<td>Exploring and Processing Data - Part 2</td>\n",
      "<td>45</td>\n",
      "</tr>\n",
      "<tr>\n",
      "<td>Building Predictive Model</td>\n",
      "<td>30</td>\n",
      "</tr>\n",
      "</table>\n",
      "</body>\n"
     ]
    }
   ],
   "source": [
    "#Print BODY\n",
    "print(body)"
   ]
  },
  {
   "cell_type": "code",
   "execution_count": 12,
   "metadata": {},
   "outputs": [
    {
     "name": "stdout",
     "output_type": "stream",
     "text": [
      "Doing Data Science With Python\n"
     ]
    }
   ],
   "source": [
    "#Use the text atribute to get the content of the tag\n",
    "print(body.find(name=\"h1\").text)"
   ]
  },
  {
   "cell_type": "code",
   "execution_count": 15,
   "metadata": {},
   "outputs": [
    {
     "name": "stdout",
     "output_type": "stream",
     "text": [
      "<p id=\"author\">Author : Abhishek Kumar</p>\n"
     ]
    }
   ],
   "source": [
    "#Get first element\n",
    "print(body.find(name=\"p\"))"
   ]
  },
  {
   "cell_type": "code",
   "execution_count": 16,
   "metadata": {},
   "outputs": [
    {
     "name": "stdout",
     "output_type": "stream",
     "text": [
      "[<p id=\"author\">Author : Abhishek Kumar</p>, <p id=\"description\">This course will help you to perform various data science activities using python.</p>]\n"
     ]
    }
   ],
   "source": [
    "#Get all elements whit tag <p>\n",
    "print(body.findAll(name=\"p\"))"
   ]
  },
  {
   "cell_type": "code",
   "execution_count": 18,
   "metadata": {},
   "outputs": [
    {
     "name": "stdout",
     "output_type": "stream",
     "text": [
      "Author : Abhishek Kumar\n",
      "This course will help you to perform various data science activities using python.\n"
     ]
    }
   ],
   "source": [
    "#loop through each element\n",
    "for val in body.findAll(name=\"p\"):\n",
    "    print(val.text)"
   ]
  },
  {
   "cell_type": "code",
   "execution_count": 19,
   "metadata": {},
   "outputs": [
    {
     "name": "stdout",
     "output_type": "stream",
     "text": [
      "<p id=\"author\">Author : Abhishek Kumar</p>\n"
     ]
    }
   ],
   "source": [
    "#Add atributes in the selection process\n",
    "print(body.find(name='p',attrs={\"id\":\"author\"}))"
   ]
  },
  {
   "cell_type": "code",
   "execution_count": 20,
   "metadata": {},
   "outputs": [
    {
     "name": "stdout",
     "output_type": "stream",
     "text": [
      "<p id=\"description\">This course will help you to perform various data science activities using python.</p>\n"
     ]
    }
   ],
   "source": [
    "print(body.find(name='p', attrs={\"id\":\"description\"}))"
   ]
  },
  {
   "cell_type": "code",
   "execution_count": 53,
   "metadata": {},
   "outputs": [
    {
     "name": "stdout",
     "output_type": "stream",
     "text": [
      "Getting Started 20\n",
      "Setting up the Environment 40\n",
      "Extracting Data 35\n",
      "Exploring and Processing Data - Part 1 45\n",
      "Exploring and Processing Data - Part 2 45\n",
      "Building Predictive Model 30\n"
     ]
    }
   ],
   "source": [
    "#body\n",
    "body= ps.find(name=\"body\")\n",
    "\n",
    "#module table\n",
    "module_table = body.find(name='table', attrs={\"id\":\"module\"})\n",
    "\n",
    "#iterate through each row in the table (skipping the first row)\n",
    "for row in module_table.findAll(name='tr')[1:]:\n",
    "\t#module title\n",
    "\ttitle = row.findAll(name='td')[0].text\n",
    "\t\n",
    "\t#module duration\n",
    "\tduration = int(row.findAll(name='td')[1].text)\n",
    "\tprint title, duration"
   ]
  },
  {
   "cell_type": "code",
   "execution_count": null,
   "metadata": {},
   "outputs": [],
   "source": []
  }
 ],
 "metadata": {
  "kernelspec": {
   "display_name": "Python 2",
   "language": "python",
   "name": "python2"
  },
  "language_info": {
   "codemirror_mode": {
    "name": "ipython",
    "version": 2
   },
   "file_extension": ".py",
   "mimetype": "text/x-python",
   "name": "python",
   "nbconvert_exporter": "python",
   "pygments_lexer": "ipython2",
   "version": "2.7.16"
  }
 },
 "nbformat": 4,
 "nbformat_minor": 2
}
